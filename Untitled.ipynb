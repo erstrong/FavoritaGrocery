{
 "cells": [
  {
   "cell_type": "code",
   "execution_count": 1,
   "metadata": {},
   "outputs": [],
   "source": [
    "import pandas as pd\n",
    "import numpy as np\n",
    "import datetime\n"
   ]
  },
  {
   "cell_type": "code",
   "execution_count": null,
   "metadata": {},
   "outputs": [],
   "source": [
    "unitsales = pd.read_csv('data/train.csv', low_memory=False)\n"
   ]
  },
  {
   "cell_type": "code",
   "execution_count": null,
   "metadata": {},
   "outputs": [],
   "source": [
    "stores = pd.read_csv('data/stores.csv', header=0)\n",
    "transactions = pd.read_csv('data/transactions_clean.csv', header=0)\n",
    "items = pd.read_csv('data/items.csv', header=0)\n",
    "holidays = pd.read_csv('data/holidays_events.csv', header=0)\n",
    "oil = pd.read_csv('data/oils_clean.csv', header=0)\n"
   ]
  },
  {
   "cell_type": "code",
   "execution_count": null,
   "metadata": {},
   "outputs": [],
   "source": [
    "# Preprocessing\n",
    "# stores\n",
    "stores.drop('type', axis=1, inplace=True)\n",
    "stores.drop('cluster', axis=1, inplace=True)\n",
    "\n",
    "# holidays\n",
    "holidays = holidays.rename(columns={'date':'date','type':'holidaytype','locale':'locale','locale_name':'locale_name',\n",
    "                           'description':'description','transferred':'transferred'})\n",
    "\n",
    "holidays.drop('transferred', axis=1, inplace=True)\n",
    "nationalholidays = holidays[holidays['locale']=='National'].drop('locale', axis=1, inplace=True)\n",
    "nationalholidays.drop('locale_name', axis=1, inplace=True)\n",
    "nationalholidays = nationalholidays.rename(columns={'date':'date','type':'holidaytype','description_n':'description'})\n",
    "\n",
    "regionalholidays = holidays[holidays['locale']=='Regional'].drop('locale', axis=1, inplace=True)\n",
    "localholidays = holidays[holidays['locale']=='Local'].drop('locale', axis=1, inplace=True)\n",
    "\n",
    "localholidays.drop('description', axis=1, inplace=True)\n",
    "localholidays = localholidays.rename(columns={'date':'date','holidaytype':'holidaytype','locale_name':'city'})\n",
    "\n",
    "regionalholidays.drop('description', axis=1, inplace=True)\n",
    "regionalholidays = regionalholidays.rename(columns={'date':'date','holidaytype':'holidaytype','locale_name':'state'})\n",
    "\n",
    "# transactions\n",
    "transactions = transactions.melt(id_vars=['date'])\n",
    "transactions = transactions.rename(columns={'date':'date','variable':'store_nbr','value':'transactions'})\n",
    "transactions['store_nbr'] = transactions['store_nbr'].map(lambda x: int(x))"
   ]
  },
  {
   "cell_type": "code",
   "execution_count": null,
   "metadata": {},
   "outputs": [],
   "source": [
    "# Processing the raw train data\n",
    "unitsales.drop('id', axis=1, inplace=True)\n",
    "unitsales['onpromotion'].fillna(False, inplace=True)\n",
    "\n",
    "def promo(x):\n",
    "    if (x==True):\n",
    "        return 1\n",
    "    else:\n",
    "        return 0\n",
    "\n",
    "unitsales['onpromotion'] = unitsales['onpromotion'].map(lambda a: promo(a))"
   ]
  },
  {
   "cell_type": "code",
   "execution_count": null,
   "metadata": {},
   "outputs": [],
   "source": [
    "# Remove outliers\n",
    "unitsales = unitsales[unitsales['unit_sales']<1000]\n",
    "unitsales = unitsales[unitsales['unit_sales']>-1000]"
   ]
  },
  {
   "cell_type": "code",
   "execution_count": null,
   "metadata": {},
   "outputs": [],
   "source": [
    "# Combine with other files\n",
    "unitsales = unitsales.merge(items, on='item_nbr', how='left')\n",
    "unitsales = unitsales.merge(stores, on='store_nbr', how='left')\n",
    "#unitsales = unitsales['store_nbr'].map(lambda a: int(a))\n",
    "unitsales = unitsales.merge(transactions, how='left', on=['date','store_nbr'])\n",
    "unitsales = unitsales.merge(oil, how='left', on='date')\n",
    "unitsales = unitsales.merge(nationalholidays, on='date', how='left')\n",
    "unitsales = unitsales.merge(regionalholidays, on=['date','state'], how='left', suffixes=('_n','_r'))\n",
    "unitsales = unitsales.merge(localholidays, on=['date','city'], how='left')"
   ]
  },
  {
   "cell_type": "code",
   "execution_count": null,
   "metadata": {},
   "outputs": [],
   "source": [
    "# Convert date to datetime\n",
    "format = '%Y-%m-%d'\n",
    "unitsales['date'] = unitsales['date'].map(lambda a: datetime.datetime.strptime(a, format))\n",
    "unitsales['day'] = unitsales['date'].map(lambda x: x.weekday())\n",
    "unitsales['month'] = unitsales['date'].map(lambda x: x.month)\n",
    "\n",
    "\n",
    "day = pd.get_dummies(unitsales['day'],prefix='day')\n",
    "unitsales = unitsales.join(day)\n",
    "unitsales.drop('day', axis=1, inplace=True)\n",
    "\n",
    "month = pd.get_dummies(unitsales['month'],prefix='month')\n",
    "unitsales = unitsales.join(month)\n",
    "unitsales.drop('month', axis=1, inplace=True)"
   ]
  },
  {
   "cell_type": "code",
   "execution_count": null,
   "metadata": {},
   "outputs": [],
   "source": [
    "family = pd.get_dummies(unitsales['family'])\n",
    "unitsales = unitsales.join(family)\n",
    "unitsales.drop('family', axis=1, inplace=True)\n",
    "    \n",
    "state = pd.get_dummies(unitsales['state'])\n",
    "unitsales = unitsales.join(state)\n",
    "unitsales.drop('state', axis=1, inplace=True)\n",
    "\n",
    "unitsales['holidaytype'] = unitsales['holidaytype'].fillna('None')\n",
    "unitsales['holidaytype_r'] = unitsales['holidaytype_r'].fillna('None')\n",
    "unitsales['holidaytype_n'] = unitsales['holidaytype_n'].fillna('None')"
   ]
  },
  {
   "cell_type": "code",
   "execution_count": null,
   "metadata": {},
   "outputs": [],
   "source": [
    "def holidayflag(x):\n",
    "    if (x =='Holiday'):\n",
    "        return 1\n",
    "    else:\n",
    "        return 0\n",
    "    \n",
    "unitsales['localholiday'] = unitsales.apply(lambda x: holidayflag(x['holidaytype']), axis=1)\n",
    "unitsales.drop('holidaytype', axis=1, inplace=True)\n",
    "\n",
    "unitsales['regionalholiday'] = unitsales.apply(lambda x: holidayflag(x['holidaytype_r']), axis=1)\n",
    "unitsales.drop('holidaytype_r', axis=1, inplace=True)"
   ]
  },
  {
   "cell_type": "code",
   "execution_count": null,
   "metadata": {},
   "outputs": [],
   "source": [
    "def nationalother(x):\n",
    "    list = ['Additional','Bridge','Transfer','Work Day']\n",
    "    if (x.isin(list)):\n",
    "        return 1\n",
    "    else:\n",
    "        return 0\n",
    "    \n",
    "unitsales['nationalother'] = unitsales.apply(lambda x: nationalother(x['holidaytype_n']), axis=1)\n",
    "\n",
    "unitsales.drop('holidaytype_n', axis=1, inplace=True)"
   ]
  },
  {
   "cell_type": "code",
   "execution_count": null,
   "metadata": {},
   "outputs": [],
   "source": [
    "def nholidayspike(x):\n",
    "    list=['Dia de Difuntos','Dia del Trabajo','Independencia de Cuenca','Primer dia del ano']\n",
    "    if (x.isin(list)):\n",
    "        return 1\n",
    "    else:\n",
    "        return 0\n",
    "\n",
    "unitsales['nholidayspike'] = unitsales.apply(lambda x: nholidayspike(x['description_n']), axis=1)\n",
    "\n",
    "def goodfriday(x):\n",
    "    if (x == 'Viernes Santo'):\n",
    "        return 1\n",
    "    else:\n",
    "        return 0\n",
    "\n",
    "unitsales['goodfriday'] = unitsales.apply(lambda x: goodfriday(x['description_n']), axis=1)\n",
    "\n",
    "def blackfriday(x):\n",
    "    if (x == 'Black Friday'):\n",
    "        return 1\n",
    "    else:\n",
    "        return 0\n",
    "\n",
    "unitsales['blackfriday'] = unitsales.apply(lambda x: blackfriday(x['description_n']), axis=1)\n",
    "\n",
    "def worldcupspike(x):\n",
    "    if (x.str.contains('Final')):\n",
    "        return 1\n",
    "    elif(x.str.contains('Tercer')):\n",
    "        return 1\n",
    "    elif(x.str.contains('Ecuador-Suiza')):\n",
    "        return 1\n",
    "    else:\n",
    "        return 0\n",
    "\n",
    "unitsales['worldcupspike'] = unitsales.apply(lambda x: worldcupspike(x['description_n']), axis=1)\n",
    "\n",
    "def worldcupdrop(x):\n",
    "    if (x.str.contains('Inauguracion')):\n",
    "        return 1\n",
    "    elif(x.str.contains('Ecuador-Francia')):\n",
    "        return 1\n",
    "    elif(x.str.contains('Ecuador-Honduras')):\n",
    "        return 1\n",
    "    else:\n",
    "        return 0\n",
    "\n",
    "unitsales['worldcupdrop'] = unitsales.apply(lambda x: worldcupdrop(x['description_n']), axis=1)\n",
    "\n",
    "def earthquakespike(x):\n",
    "    list=['Terremoto Manabi+1','Terremoto Manabi+2','Terremoto Manabi+3','Terremoto Manabi+4','Terremoto Manabi+8','Terremoto Manabi+14','Terremoto Manabi+15']\n",
    "    if (x.isin(list)):\n",
    "        return 1\n",
    "    else:\n",
    "        return 0\n",
    "\n",
    "unitsales['earthquakespike'] = unitsales.apply(lambda x: earthquakespike(x['description_n']), axis=1)\n",
    "\n",
    "def earthquakedrop(x):\n",
    "    list=['Terremoto Manabi+9','Terremoto Manabi+10','Terremoto Manabi+11','Terremoto Manabi+12','Terremoto Manabi+13']\n",
    "    if (x.isin(list)):\n",
    "        return 1\n",
    "    else:\n",
    "        return 0\n",
    "\n",
    "unitsales['earthquakedrop'] = unitsales.apply(lambda x: earthquakedrop(x['description_n']), axis=1)\n",
    "\n",
    "unitsales.drop('description_n', axis=1, inplace=True)"
   ]
  },
  {
   "cell_type": "code",
   "execution_count": null,
   "metadata": {},
   "outputs": [],
   "source": [
    "# Drop unnecessary features\n",
    "unitsales.drop('date', axis=1, inplace=True)\n",
    "unitsales.drop('city', axis=1, inplace=True)\n",
    "unitsales.drop('class', axis=1, inplace=True)\n",
    "unitsales.drop('item_nbr', axis=1, inplace=True)\n",
    "unitsales.drop('store_nbr', axis=1, inplace=True)"
   ]
  },
  {
   "cell_type": "code",
   "execution_count": null,
   "metadata": {},
   "outputs": [],
   "source": [
    "list(unitsales)"
   ]
  }
 ],
 "metadata": {
  "kernelspec": {
   "display_name": "Python 3",
   "language": "python",
   "name": "python3"
  },
  "language_info": {
   "codemirror_mode": {
    "name": "ipython",
    "version": 3
   },
   "file_extension": ".py",
   "mimetype": "text/x-python",
   "name": "python",
   "nbconvert_exporter": "python",
   "pygments_lexer": "ipython3",
   "version": "3.6.3"
  }
 },
 "nbformat": 4,
 "nbformat_minor": 2
}
