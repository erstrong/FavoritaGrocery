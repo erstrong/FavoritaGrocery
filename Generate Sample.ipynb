{
 "cells": [
  {
   "cell_type": "code",
   "execution_count": 1,
   "metadata": {},
   "outputs": [],
   "source": [
    "import pandas as pd"
   ]
  },
  {
   "cell_type": "code",
   "execution_count": null,
   "metadata": {},
   "outputs": [],
   "source": [
    "train = pd.read_csv('train.csv', header=0, low_memory=False)"
   ]
  },
  {
   "cell_type": "code",
   "execution_count": null,
   "metadata": {},
   "outputs": [],
   "source": [
    "train = train.sample(n=1000000)"
   ]
  },
  {
   "cell_type": "code",
   "execution_count": null,
   "metadata": {},
   "outputs": [],
   "source": [
    "transactions = pd.read_csv('transactions_clean.csv')\n",
    "stores = pd.read_csv('stores.csv', header=0)\n",
    "transactions = pd.read_csv('transactions_clean.csv', header=0)\n",
    "items = pd.read_csv('items.csv', header=0)\n",
    "holidays = pd.read_csv('holidays_events.csv', header=0)\n",
    "oil = pd.read_csv('oils_clean.csv', header=0)"
   ]
  },
  {
   "cell_type": "code",
   "execution_count": null,
   "metadata": {},
   "outputs": [],
   "source": [
    "holidays = holidays.rename(columns={'date':'date','type':'holidaytype','locale':'locale','locale_name':'locale_name',\n",
    "                           'description':'description','transferred':'transferred'})\n",
    "nationalholidays = holidays[holidays['locale']=='National']\n",
    "regionalholidays = holidays[holidays['locale']=='Regional']\n",
    "localholidays = holidays[holidays['locale']=='Local']\n",
    "\n",
    "localholidays = localholidays.rename(columns={'date':'date','holidaytype':'holidaytype','locale':'locale','locale_name':'city','description':'description','transferred':'transferred'})\n",
    "regionalholidays = regionalholidays.rename(columns={'date':'date','holidaytype':'holidaytype','locale':'locale','locale_name':'state','description':'description','transferred':'transferred'})\n",
    "\n",
    "\n",
    "transactions = transactions.melt(id_vars=['date'])\n",
    "transactions = transactions.rename(columns={'date':'date','variable':'store_nbr','value':'transactions'})\n",
    "#transactions['store_nbr'] = transactions['store_nbr'].map(lambda x: int(x))\n"
   ]
  },
  {
   "cell_type": "code",
   "execution_count": null,
   "metadata": {},
   "outputs": [],
   "source": [
    "train['onpromotion'].fillna(False, inplace=True)"
   ]
  },
  {
   "cell_type": "code",
   "execution_count": null,
   "metadata": {},
   "outputs": [],
   "source": [
    "# Combine with other files\n",
    "train = train.merge(items, on='item_nbr', how='left')\n",
    "train = train.merge(stores, on='store_nbr', how='left')\n",
    "#df = df['store_nbr'].map(lambda a: int(a))\n",
    "train = train.merge(transactions, how='left', on=['date','store_nbr'])\n",
    "train = train.merge(oil, how='left', on='date')\n",
    "train = train.merge(nationalholidays, on='date', how='left')\n",
    "train = train.merge(regionalholidays, on=['date','state'], how='left', suffixes=('_n','_r'))\n",
    "train = train.merge(localholidays, on=['date','city'], how='left')"
   ]
  },
  {
   "cell_type": "code",
   "execution_count": null,
   "metadata": {},
   "outputs": [],
   "source": [
    "# Convert date to datetime\n",
    "format = '%Y-%m-%d'\n",
    "train['date'] = train['date'].map(lambda a: datetime.datetime.strptime(a, format))\n",
    "train['day'] = train['date'].map(lambda x: x.weekday())\n",
    "train['month'] = train['date'].map(lambda x: x.month)\n",
    "train['year'] = train['date'].map(lambda x: x.year)"
   ]
  },
  {
   "cell_type": "code",
   "execution_count": null,
   "metadata": {},
   "outputs": [],
   "source": [
    "train.head()"
   ]
  },
  {
   "cell_type": "code",
   "execution_count": null,
   "metadata": {},
   "outputs": [],
   "source": [
    "train.to_csv('train_SampleForEDA.csv', index=False)"
   ]
  }
 ],
 "metadata": {
  "kernelspec": {
   "display_name": "Python 3",
   "language": "python",
   "name": "python3"
  },
  "language_info": {
   "codemirror_mode": {
    "name": "ipython",
    "version": 3
   },
   "file_extension": ".py",
   "mimetype": "text/x-python",
   "name": "python",
   "nbconvert_exporter": "python",
   "pygments_lexer": "ipython3",
   "version": "3.6.3"
  }
 },
 "nbformat": 4,
 "nbformat_minor": 2
}
