{
 "cells": [
  {
   "cell_type": "code",
   "execution_count": 1,
   "metadata": {},
   "outputs": [
    {
     "data": {
      "text/plain": [
       "\n",
       "Call:\n",
       "lm(formula = unit_sales ~ ., data = train)\n",
       "\n",
       "Residuals:\n",
       "    Min      1Q  Median      3Q     Max \n",
       "-6.3268 -2.0116 -0.6309  1.2738  9.4081 \n",
       "\n",
       "Coefficients: (4 not defined because of singularities)\n",
       "                                 Estimate Std. Error t value Pr(>|t|)    \n",
       "(Intercept)                     3.051e+00  3.624e-02  84.201  < 2e-16 ***\n",
       "onpromotion                     6.555e-01  2.204e-02  29.738  < 2e-16 ***\n",
       "transactions                    5.149e-04  5.840e-06  88.172  < 2e-16 ***\n",
       "dcoilwtico                      4.224e-03  1.919e-04  22.007  < 2e-16 ***\n",
       "day_0                          -1.872e-01  1.685e-02 -11.108  < 2e-16 ***\n",
       "day_1                          -2.607e-01  1.692e-02 -15.404  < 2e-16 ***\n",
       "day_2                          -3.101e-01  1.697e-02 -18.271  < 2e-16 ***\n",
       "day_3                          -3.929e-01  1.712e-02 -22.947  < 2e-16 ***\n",
       "day_4                          -3.150e-01  1.715e-02 -18.370  < 2e-16 ***\n",
       "day_5                          -6.094e-02  1.657e-02  -3.677 0.000236 ***\n",
       "day_6                                  NA         NA      NA       NA    \n",
       "month_1                         1.316e-02  2.312e-02   0.570 0.569012    \n",
       "month_2                        -3.305e-04  2.364e-02  -0.014 0.988844    \n",
       "month_3                         1.041e-01  2.313e-02   4.501 6.77e-06 ***\n",
       "month_4                         3.965e-02  2.374e-02   1.670 0.094885 .  \n",
       "month_5                         2.105e-02  2.271e-02   0.927 0.354063    \n",
       "month_6                         1.049e-02  2.337e-02   0.449 0.653450    \n",
       "month_7                         1.265e-02  2.315e-02   0.547 0.584620    \n",
       "month_8                         2.755e-02  2.380e-02   1.158 0.246998    \n",
       "month_9                         3.543e-02  2.493e-02   1.421 0.155239    \n",
       "month_10                        3.337e-04  2.445e-02   0.014 0.989112    \n",
       "month_11                       -3.214e-02  2.474e-02  -1.299 0.194038    \n",
       "month_12                               NA         NA      NA       NA    \n",
       "X1003                           4.235e-03  3.934e-02   0.108 0.914280    \n",
       "X1010                          -1.397e-01  1.580e-02  -8.844  < 2e-16 ***\n",
       "X1012                          -6.902e-02  1.937e-02  -3.564 0.000365 ***\n",
       "X1042                          -6.538e-02  1.318e-02  -4.962 6.99e-07 ***\n",
       "X1060                          -3.412e-02  1.595e-02  -2.139 0.032441 *  \n",
       "X1066                           4.413e-01  2.287e-02  19.295  < 2e-16 ***\n",
       "X1070                           1.362e-01  2.624e-02   5.193 2.07e-07 ***\n",
       "X1077                          -3.018e-01  6.934e-02  -4.352 1.35e-05 ***\n",
       "X1084                                  NA         NA      NA       NA    \n",
       "Azuay                          -6.089e-02  2.978e-02  -2.045 0.040882 *  \n",
       "Bolivar                        -7.582e-02  4.166e-02  -1.820 0.068746 .  \n",
       "Chimborazo                      1.104e-01  4.195e-02   2.632 0.008501 ** \n",
       "Cotopaxi                       -6.671e-02  3.350e-02  -1.991 0.046432 *  \n",
       "El.Oro                          2.635e-01  3.221e-02   8.180 2.84e-16 ***\n",
       "Esmeraldas                     -1.005e-01  4.165e-02  -2.414 0.015787 *  \n",
       "Guayas                         -1.283e-01  2.460e-02  -5.215 1.84e-07 ***\n",
       "Imbabura                       -1.791e-01  4.085e-02  -4.383 1.17e-05 ***\n",
       "Loja                           -4.172e-01  3.884e-02 -10.742  < 2e-16 ***\n",
       "Los.Rios                        1.979e-01  3.225e-02   6.136 8.46e-10 ***\n",
       "Manabi                         -9.311e-02  3.386e-02  -2.750 0.005961 ** \n",
       "Pastaza                        -4.453e-01  5.718e-02  -7.789 6.77e-15 ***\n",
       "Pichincha                       1.158e-01  2.339e-02   4.949 7.45e-07 ***\n",
       "Santa.Elena                    -4.923e-01  4.317e-02 -11.402  < 2e-16 ***\n",
       "Santo.Domingo.de.los.Tsachilas -7.615e-02  3.066e-02  -2.484 0.013000 *  \n",
       "Tungurahua                             NA         NA      NA       NA    \n",
       "localholiday                    6.866e-02  8.600e-02   0.798 0.424660    \n",
       "regionalholiday                 7.456e-01  2.590e-01   2.879 0.003984 ** \n",
       "nationalother                  -4.960e-02  2.937e-02  -1.689 0.091267 .  \n",
       "nholidayspike                   4.104e-01  5.185e-02   7.916 2.45e-15 ***\n",
       "goodfriday                      3.448e-02  8.580e-02   0.402 0.687760    \n",
       "blackfriday                    -1.329e-01  1.038e-01  -1.280 0.200692    \n",
       "worldcupspike                   2.744e-02  7.187e-02   0.382 0.702582    \n",
       "worldcupdrop                    1.845e-02  1.254e-01   0.147 0.883070    \n",
       "earthquakespike                 1.097e-01  6.533e-02   1.680 0.092963 .  \n",
       "earthquakedrop                 -1.756e-01  8.032e-02  -2.186 0.028805 *  \n",
       "---\n",
       "Signif. codes:  0 ‘***’ 0.001 ‘**’ 0.01 ‘*’ 0.05 ‘.’ 0.1 ‘ ’ 1\n",
       "\n",
       "Residual standard error: 2.685 on 351018 degrees of freedom\n",
       "  (4 observations deleted due to missingness)\n",
       "Multiple R-squared:  0.05651,\tAdjusted R-squared:  0.05637 \n",
       "F-statistic: 396.7 on 53 and 351018 DF,  p-value: < 2.2e-16\n"
      ]
     },
     "metadata": {},
     "output_type": "display_data"
    }
   ],
   "source": [
    "data <- read.csv(\"~/Desktop/code/FavoritaGrocery/Part3-ClusteringandModels/Prediction/train_cluster1.csv\")\n",
    "\n",
    "set.seed(101)\n",
    "indexes = sample(1:nrow(data), size=0.7*nrow(data))\n",
    "train <- data[indexes, ]\n",
    "test  <- data[-indexes, ]\n",
    "\n",
    "\n",
    "\n",
    "lm.fit = lm(unit_sales~., data=train)\n",
    "summary(lm.fit)"
   ]
  },
  {
   "cell_type": "code",
   "execution_count": 2,
   "metadata": {},
   "outputs": [
    {
     "name": "stderr",
     "output_type": "stream",
     "text": [
      "Warning message in predict.lm(lm.fit, test):\n",
      "“prediction from a rank-deficient fit may be misleading”Warning message:\n",
      "“package ‘forecast’ was built under R version 3.4.2”"
     ]
    },
    {
     "data": {
      "text/html": [
       "<table>\n",
       "<thead><tr><th></th><th scope=col>ME</th><th scope=col>RMSE</th><th scope=col>MAE</th><th scope=col>MPE</th><th scope=col>MAPE</th></tr></thead>\n",
       "<tbody>\n",
       "\t<tr><th scope=row>Test set</th><td>-0.004446584</td><td>2.690221    </td><td>2.108323    </td><td>-62.0043    </td><td>88.3223     </td></tr>\n",
       "</tbody>\n",
       "</table>\n"
      ],
      "text/latex": [
       "\\begin{tabular}{r|lllll}\n",
       "  & ME & RMSE & MAE & MPE & MAPE\\\\\n",
       "\\hline\n",
       "\tTest set & -0.004446584 & 2.690221     & 2.108323     & -62.0043     & 88.3223     \\\\\n",
       "\\end{tabular}\n"
      ],
      "text/markdown": [
       "\n",
       "| <!--/--> | ME | RMSE | MAE | MPE | MAPE | \n",
       "|---|\n",
       "| Test set | -0.004446584 | 2.690221     | 2.108323     | -62.0043     | 88.3223      | \n",
       "\n",
       "\n"
      ],
      "text/plain": [
       "         ME           RMSE     MAE      MPE      MAPE   \n",
       "Test set -0.004446584 2.690221 2.108323 -62.0043 88.3223"
      ]
     },
     "metadata": {},
     "output_type": "display_data"
    }
   ],
   "source": [
    "p =predict(lm.fit, test)\n",
    "library(forecast)\n",
    "accuracy(p, test$unit_sales)"
   ]
  },
  {
   "cell_type": "code",
   "execution_count": 3,
   "metadata": {},
   "outputs": [
    {
     "data": {
      "text/plain": [
       "\n",
       "Call:\n",
       "lm(formula = unit_sales ~ onpromotion + transactions + dcoilwtico + \n",
       "    day_0 + day_1 + day_2 + day_3 + day_4 + day_5 + month_3 + \n",
       "    month_4 + X1010 + X1012 + X1042 + X1060 + X1066 + X1070 + \n",
       "    X1077 + Azuay + Bolivar + Chimborazo + Cotopaxi + El.Oro + \n",
       "    Esmeraldas + Guayas + Imbabura + Loja + Los.Rios + Manabi + \n",
       "    Pastaza + Pichincha + Santa.Elena + Santo.Domingo.de.los.Tsachilas + \n",
       "    regionalholiday + nationalother + nholidayspike + earthquakespike + \n",
       "    earthquakedrop, data = train)\n",
       "\n",
       "Residuals:\n",
       "   Min     1Q Median     3Q    Max \n",
       "-6.333 -2.012 -0.630  1.274  9.414 \n",
       "\n",
       "Coefficients:\n",
       "                                 Estimate Std. Error t value Pr(>|t|)    \n",
       "(Intercept)                     3.059e+00  3.159e-02  96.837  < 2e-16 ***\n",
       "onpromotion                     6.542e-01  2.202e-02  29.706  < 2e-16 ***\n",
       "transactions                    5.147e-04  5.806e-06  88.646  < 2e-16 ***\n",
       "dcoilwtico                      4.278e-03  1.894e-04  22.590  < 2e-16 ***\n",
       "day_0                          -1.871e-01  1.684e-02 -11.113  < 2e-16 ***\n",
       "day_1                          -2.608e-01  1.691e-02 -15.425  < 2e-16 ***\n",
       "day_2                          -3.105e-01  1.695e-02 -18.314  < 2e-16 ***\n",
       "day_3                          -3.933e-01  1.710e-02 -23.001  < 2e-16 ***\n",
       "day_4                          -3.164e-01  1.700e-02 -18.613  < 2e-16 ***\n",
       "day_5                          -6.096e-02  1.657e-02  -3.679 0.000234 ***\n",
       "month_3                         9.479e-02  1.577e-02   6.011 1.84e-09 ***\n",
       "month_4                         3.101e-02  1.649e-02   1.880 0.060112 .  \n",
       "X1010                          -1.401e-01  1.554e-02  -9.019  < 2e-16 ***\n",
       "X1012                          -6.948e-02  1.915e-02  -3.627 0.000287 ***\n",
       "X1042                          -6.555e-02  1.286e-02  -5.095 3.48e-07 ***\n",
       "X1060                          -3.472e-02  1.569e-02  -2.212 0.026953 *  \n",
       "X1066                           4.405e-01  2.269e-02  19.415  < 2e-16 ***\n",
       "X1070                           1.359e-01  2.608e-02   5.213 1.86e-07 ***\n",
       "X1077                          -3.035e-01  6.927e-02  -4.381 1.18e-05 ***\n",
       "Azuay                          -6.107e-02  2.978e-02  -2.051 0.040292 *  \n",
       "Bolivar                        -7.664e-02  4.165e-02  -1.840 0.065753 .  \n",
       "Chimborazo                      1.096e-01  4.194e-02   2.614 0.008961 ** \n",
       "Cotopaxi                       -6.723e-02  3.349e-02  -2.007 0.044720 *  \n",
       "El.Oro                          2.633e-01  3.221e-02   8.173 3.02e-16 ***\n",
       "Esmeraldas                     -1.011e-01  4.164e-02  -2.427 0.015206 *  \n",
       "Guayas                         -1.287e-01  2.460e-02  -5.230 1.69e-07 ***\n",
       "Imbabura                       -1.794e-01  4.085e-02  -4.392 1.12e-05 ***\n",
       "Loja                           -4.178e-01  3.884e-02 -10.757  < 2e-16 ***\n",
       "Los.Rios                        1.972e-01  3.225e-02   6.116 9.62e-10 ***\n",
       "Manabi                         -9.279e-02  3.385e-02  -2.741 0.006124 ** \n",
       "Pastaza                        -4.469e-01  5.717e-02  -7.817 5.42e-15 ***\n",
       "Pichincha                       1.155e-01  2.338e-02   4.941 7.80e-07 ***\n",
       "Santa.Elena                    -4.934e-01  4.317e-02 -11.431  < 2e-16 ***\n",
       "Santo.Domingo.de.los.Tsachilas -7.647e-02  3.065e-02  -2.495 0.012612 *  \n",
       "regionalholiday                 7.243e-01  2.588e-01   2.799 0.005131 ** \n",
       "nationalother                  -5.428e-02  2.777e-02  -1.955 0.050606 .  \n",
       "nholidayspike                   3.904e-01  5.066e-02   7.706 1.30e-14 ***\n",
       "earthquakespike                 1.116e-01  6.526e-02   1.710 0.087279 .  \n",
       "earthquakedrop                 -1.754e-01  8.028e-02  -2.185 0.028912 *  \n",
       "---\n",
       "Signif. codes:  0 ‘***’ 0.001 ‘**’ 0.01 ‘*’ 0.05 ‘.’ 0.1 ‘ ’ 1\n",
       "\n",
       "Residual standard error: 2.685 on 351033 degrees of freedom\n",
       "  (4 observations deleted due to missingness)\n",
       "Multiple R-squared:  0.05647,\tAdjusted R-squared:  0.05637 \n",
       "F-statistic: 552.9 on 38 and 351033 DF,  p-value: < 2.2e-16\n"
      ]
     },
     "metadata": {},
     "output_type": "display_data"
    }
   ],
   "source": [
    "lm.fit2=lm(unit_sales~onpromotion+transactions+dcoilwtico+day_0+day_1+day_2+day_3+day_4\n",
    "           +day_5+month_3+month_4+X1010+X1012+X1042+X1060+X1066+X1070+X1077+Azuay+Bolivar\n",
    "           +Chimborazo+Cotopaxi+El.Oro+Esmeraldas+Guayas+Imbabura+Loja+Los.Rios+Manabi\n",
    "           +Pastaza+Pichincha+Santa.Elena+Santo.Domingo.de.los.Tsachilas+regionalholiday\n",
    "           +nationalother+nholidayspike+earthquakespike+earthquakedrop,\n",
    "           data=train)\n",
    "summary(lm.fit2)"
   ]
  },
  {
   "cell_type": "code",
   "execution_count": 4,
   "metadata": {},
   "outputs": [
    {
     "data": {
      "text/html": [
       "<table>\n",
       "<thead><tr><th></th><th scope=col>ME</th><th scope=col>RMSE</th><th scope=col>MAE</th><th scope=col>MPE</th><th scope=col>MAPE</th></tr></thead>\n",
       "<tbody>\n",
       "\t<tr><th scope=row>Test set</th><td>-0.004413621</td><td>2.690242    </td><td>2.108317    </td><td>-62.004     </td><td>88.32171    </td></tr>\n",
       "</tbody>\n",
       "</table>\n"
      ],
      "text/latex": [
       "\\begin{tabular}{r|lllll}\n",
       "  & ME & RMSE & MAE & MPE & MAPE\\\\\n",
       "\\hline\n",
       "\tTest set & -0.004413621 & 2.690242     & 2.108317     & -62.004      & 88.32171    \\\\\n",
       "\\end{tabular}\n"
      ],
      "text/markdown": [
       "\n",
       "| <!--/--> | ME | RMSE | MAE | MPE | MAPE | \n",
       "|---|\n",
       "| Test set | -0.004413621 | 2.690242     | 2.108317     | -62.004      | 88.32171     | \n",
       "\n",
       "\n"
      ],
      "text/plain": [
       "         ME           RMSE     MAE      MPE     MAPE    \n",
       "Test set -0.004413621 2.690242 2.108317 -62.004 88.32171"
      ]
     },
     "metadata": {},
     "output_type": "display_data"
    }
   ],
   "source": [
    "p2 =predict(lm.fit2, test)\n",
    "\n",
    "accuracy(p2, test$unit_sales)"
   ]
  },
  {
   "cell_type": "code",
   "execution_count": null,
   "metadata": {},
   "outputs": [],
   "source": []
  }
 ],
 "metadata": {
  "kernelspec": {
   "display_name": "R",
   "language": "R",
   "name": "ir"
  },
  "language_info": {
   "codemirror_mode": "r",
   "file_extension": ".r",
   "mimetype": "text/x-r-source",
   "name": "R",
   "pygments_lexer": "r",
   "version": "3.4.1"
  }
 },
 "nbformat": 4,
 "nbformat_minor": 2
}
