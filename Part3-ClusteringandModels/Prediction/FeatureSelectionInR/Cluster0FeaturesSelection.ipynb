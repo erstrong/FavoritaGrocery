{
 "cells": [
  {
   "cell_type": "code",
   "execution_count": 1,
   "metadata": {},
   "outputs": [
    {
     "data": {
      "text/plain": [
       "\n",
       "Call:\n",
       "lm(formula = unit_sales ~ ., data = train)\n",
       "\n",
       "Residuals:\n",
       "    Min      1Q  Median      3Q     Max \n",
       "-2.3619 -1.1468 -0.3442  0.7058  4.5498 \n",
       "\n",
       "Coefficients: (4 not defined because of singularities)\n",
       "                                 Estimate Std. Error t value Pr(>|t|)    \n",
       "(Intercept)                     1.610e+00  2.991e-02  53.825  < 2e-16 ***\n",
       "onpromotion                     1.776e-01  1.508e-02  11.775  < 2e-16 ***\n",
       "transactions                    1.581e-04  2.878e-06  54.932  < 2e-16 ***\n",
       "dcoilwtico                      3.180e-04  1.032e-04   3.082 0.002056 ** \n",
       "day_0                          -7.342e-02  8.645e-03  -8.493  < 2e-16 ***\n",
       "day_1                          -7.918e-02  8.669e-03  -9.134  < 2e-16 ***\n",
       "day_2                          -8.662e-02  8.636e-03 -10.030  < 2e-16 ***\n",
       "day_3                          -1.017e-01  8.758e-03 -11.617  < 2e-16 ***\n",
       "day_4                          -6.613e-02  8.707e-03  -7.594 3.10e-14 ***\n",
       "day_5                           1.379e-02  8.370e-03   1.648 0.099335 .  \n",
       "day_6                                  NA         NA      NA       NA    \n",
       "month_1                        -5.234e-02  1.166e-02  -4.488 7.21e-06 ***\n",
       "month_2                        -2.331e-02  1.191e-02  -1.956 0.050454 .  \n",
       "month_3                         1.685e-02  1.159e-02   1.454 0.145869    \n",
       "month_4                        -2.913e-03  1.202e-02  -0.242 0.808514    \n",
       "month_5                        -7.558e-03  1.141e-02  -0.663 0.507577    \n",
       "month_6                        -8.529e-03  1.177e-02  -0.725 0.468593    \n",
       "month_7                         9.099e-03  1.160e-02   0.784 0.432994    \n",
       "month_8                         7.403e-03  1.190e-02   0.622 0.533861    \n",
       "month_9                        -3.287e-03  1.259e-02  -0.261 0.794103    \n",
       "month_10                        1.251e-02  1.216e-02   1.029 0.303517    \n",
       "month_11                       -1.451e-02  1.232e-02  -1.177 0.239088    \n",
       "month_12                               NA         NA      NA       NA    \n",
       "X1002                           4.870e-01  2.440e-02  19.962  < 2e-16 ***\n",
       "X1006                           4.466e-01  2.696e-02  16.565  < 2e-16 ***\n",
       "X1030                           4.248e-01  2.430e-02  17.478  < 2e-16 ***\n",
       "X1035                           3.231e-01  2.831e-02  11.410  < 2e-16 ***\n",
       "X1050                           5.447e-01  2.693e-02  20.226  < 2e-16 ***\n",
       "X1052                           6.499e-01  2.690e-02  24.159  < 2e-16 ***\n",
       "X1062                           5.250e-01  2.428e-02  21.627  < 2e-16 ***\n",
       "X1063                          -1.832e-01  5.595e-01  -0.327 0.743317    \n",
       "X1064                           1.535e-01  3.281e-02   4.678 2.90e-06 ***\n",
       "X1067                           5.098e-02  5.137e-02   0.992 0.320973    \n",
       "X1068                           3.017e-01  2.717e-02  11.104  < 2e-16 ***\n",
       "X1075                           3.533e-01  4.409e-02   8.012 1.13e-15 ***\n",
       "X1079                           1.727e-01  7.105e-02   2.431 0.015067 *  \n",
       "X1082                           6.329e-01  2.809e-02  22.530  < 2e-16 ***\n",
       "X1087                           1.009e-01  4.122e-02   2.448 0.014374 *  \n",
       "X1093                                  NA         NA      NA       NA    \n",
       "Azuay                           3.529e-02  1.501e-02   2.351 0.018722 *  \n",
       "Bolivar                         4.155e-02  2.154e-02   1.929 0.053765 .  \n",
       "Chimborazo                      8.977e-02  2.212e-02   4.059 4.94e-05 ***\n",
       "Cotopaxi                       -7.067e-02  1.819e-02  -3.886 0.000102 ***\n",
       "El.Oro                          1.182e-01  1.670e-02   7.076 1.48e-12 ***\n",
       "Esmeraldas                      3.965e-02  2.175e-02   1.823 0.068314 .  \n",
       "Guayas                         -9.732e-02  1.263e-02  -7.703 1.33e-14 ***\n",
       "Imbabura                        8.900e-03  2.117e-02   0.420 0.674147    \n",
       "Loja                            6.833e-02  1.904e-02   3.589 0.000332 ***\n",
       "Los.Rios                        7.972e-02  1.697e-02   4.698 2.62e-06 ***\n",
       "Manabi                         -4.053e-02  1.786e-02  -2.270 0.023236 *  \n",
       "Pastaza                        -2.967e-02  2.911e-02  -1.019 0.308093    \n",
       "Pichincha                      -8.678e-03  1.180e-02  -0.735 0.462172    \n",
       "Santa.Elena                    -2.284e-01  2.264e-02 -10.088  < 2e-16 ***\n",
       "Santo.Domingo.de.los.Tsachilas -2.377e-02  1.564e-02  -1.519 0.128648    \n",
       "Tungurahua                             NA         NA      NA       NA    \n",
       "localholiday                   -1.528e-02  4.313e-02  -0.354 0.723187    \n",
       "regionalholiday                -3.567e-02  1.286e-01  -0.277 0.781413    \n",
       "nationalother                  -1.076e-02  1.456e-02  -0.739 0.460124    \n",
       "nholidayspike                   3.286e-02  2.596e-02   1.266 0.205610    \n",
       "goodfriday                     -2.745e-02  4.321e-02  -0.635 0.525233    \n",
       "blackfriday                    -2.961e-02  5.366e-02  -0.552 0.581115    \n",
       "worldcupspike                   1.093e-02  3.687e-02   0.296 0.766938    \n",
       "worldcupdrop                   -7.266e-02  6.663e-02  -1.091 0.275474    \n",
       "earthquakespike                 1.234e-02  3.114e-02   0.396 0.691894    \n",
       "earthquakedrop                 -1.850e-02  3.888e-02  -0.476 0.634190    \n",
       "---\n",
       "Signif. codes:  0 ‘***’ 0.001 ‘**’ 0.01 ‘*’ 0.05 ‘.’ 0.1 ‘ ’ 1\n",
       "\n",
       "Residual standard error: 1.369 on 351061 degrees of freedom\n",
       "  (2 observations deleted due to missingness)\n",
       "Multiple R-squared:  0.02376,\tAdjusted R-squared:  0.02359 \n",
       "F-statistic: 142.4 on 60 and 351061 DF,  p-value: < 2.2e-16\n"
      ]
     },
     "metadata": {},
     "output_type": "display_data"
    }
   ],
   "source": [
    "data <- read.csv(\"~/Desktop/code/FavoritaGrocery/Part3-ClusteringandModels/Prediction/train_cluster0.csv\")\n",
    "\n",
    "set.seed(101)\n",
    "indexes = sample(1:nrow(data), size=0.7*nrow(data))\n",
    "train <- data[indexes, ]\n",
    "test  <- data[-indexes, ]\n",
    "\n",
    "\n",
    "\n",
    "lm.fit = lm(unit_sales~., data=train)\n",
    "summary(lm.fit)"
   ]
  },
  {
   "cell_type": "code",
   "execution_count": 3,
   "metadata": {},
   "outputs": [
    {
     "name": "stderr",
     "output_type": "stream",
     "text": [
      "Warning message in predict.lm(lm.fit, test):\n",
      "“prediction from a rank-deficient fit may be misleading”Warning message:\n",
      "“package ‘forecast’ was built under R version 3.4.2”"
     ]
    },
    {
     "data": {
      "text/html": [
       "<table>\n",
       "<thead><tr><th></th><th scope=col>ME</th><th scope=col>RMSE</th><th scope=col>MAE</th><th scope=col>MPE</th><th scope=col>MAPE</th></tr></thead>\n",
       "<tbody>\n",
       "\t<tr><th scope=row>Test set</th><td>-0.002169463</td><td>1.367801    </td><td>1.089891    </td><td>-35.85298   </td><td>60.53916    </td></tr>\n",
       "</tbody>\n",
       "</table>\n"
      ],
      "text/latex": [
       "\\begin{tabular}{r|lllll}\n",
       "  & ME & RMSE & MAE & MPE & MAPE\\\\\n",
       "\\hline\n",
       "\tTest set & -0.002169463 & 1.367801     & 1.089891     & -35.85298    & 60.53916    \\\\\n",
       "\\end{tabular}\n"
      ],
      "text/markdown": [
       "\n",
       "| <!--/--> | ME | RMSE | MAE | MPE | MAPE | \n",
       "|---|\n",
       "| Test set | -0.002169463 | 1.367801     | 1.089891     | -35.85298    | 60.53916     | \n",
       "\n",
       "\n"
      ],
      "text/plain": [
       "         ME           RMSE     MAE      MPE       MAPE    \n",
       "Test set -0.002169463 1.367801 1.089891 -35.85298 60.53916"
      ]
     },
     "metadata": {},
     "output_type": "display_data"
    }
   ],
   "source": [
    "p =predict(lm.fit, test)\n",
    "library(forecast)\n",
    "accuracy(p, test$unit_sales)"
   ]
  },
  {
   "cell_type": "code",
   "execution_count": 6,
   "metadata": {},
   "outputs": [
    {
     "data": {
      "text/plain": [
       "\n",
       "Call:\n",
       "lm(formula = unit_sales ~ onpromotion + transactions + dcoilwtico + \n",
       "    day_0 + day_1 + day_2 + day_3 + day_4 + month_1 + +month_2 + \n",
       "    X1002 + X1006 + X1030 + X1035 + X1050 + X1052 + X1062 + X1064 + \n",
       "    X1068 + X1075 + X1079 + X1082 + X1087 + Azuay + Bolivar + \n",
       "    Chimborazo + Cotopaxi + El.Oro + Esmeraldas + Guayas + Loja + \n",
       "    Los.Rios + Manabi + Santa.Elena, data = train)\n",
       "\n",
       "Residuals:\n",
       "    Min      1Q  Median      3Q     Max \n",
       "-2.3769 -1.1481 -0.3438  0.7059  4.5509 \n",
       "\n",
       "Coefficients:\n",
       "               Estimate Std. Error t value Pr(>|t|)    \n",
       "(Intercept)   1.617e+00  2.381e-02  67.887  < 2e-16 ***\n",
       "onpromotion   1.753e-01  1.506e-02  11.637  < 2e-16 ***\n",
       "transactions  1.587e-04  2.564e-06  61.893  < 2e-16 ***\n",
       "dcoilwtico    3.269e-04  1.013e-04   3.228  0.00125 ** \n",
       "day_0        -8.013e-02  7.516e-03 -10.661  < 2e-16 ***\n",
       "day_1        -8.596e-02  7.546e-03 -11.392  < 2e-16 ***\n",
       "day_2        -9.345e-02  7.502e-03 -12.456  < 2e-16 ***\n",
       "day_3        -1.086e-01  7.627e-03 -14.240  < 2e-16 ***\n",
       "day_4        -7.454e-02  7.464e-03  -9.986  < 2e-16 ***\n",
       "month_1      -5.338e-02  8.301e-03  -6.431 1.27e-10 ***\n",
       "month_2      -2.409e-02  8.495e-03  -2.835  0.00458 ** \n",
       "X1002         4.770e-01  2.172e-02  21.960  < 2e-16 ***\n",
       "X1006         4.367e-01  2.457e-02  17.776  < 2e-16 ***\n",
       "X1030         4.146e-01  2.161e-02  19.184  < 2e-16 ***\n",
       "X1035         3.132e-01  2.605e-02  12.023  < 2e-16 ***\n",
       "X1050         5.346e-01  2.453e-02  21.794  < 2e-16 ***\n",
       "X1052         6.398e-01  2.449e-02  26.118  < 2e-16 ***\n",
       "X1062         5.150e-01  2.159e-02  23.855  < 2e-16 ***\n",
       "X1064         1.433e-01  3.088e-02   4.639 3.51e-06 ***\n",
       "X1068         2.913e-01  2.479e-02  11.752  < 2e-16 ***\n",
       "X1075         3.436e-01  4.266e-02   8.053 8.10e-16 ***\n",
       "X1079         1.620e-01  7.017e-02   2.308  0.02098 *  \n",
       "X1082         6.225e-01  2.580e-02  24.133  < 2e-16 ***\n",
       "X1087         9.043e-02  3.969e-02   2.278  0.02272 *  \n",
       "Azuay         4.511e-02  1.062e-02   4.247 2.17e-05 ***\n",
       "Bolivar       5.157e-02  1.876e-02   2.749  0.00597 ** \n",
       "Chimborazo    9.952e-02  1.941e-02   5.128 2.93e-07 ***\n",
       "Cotopaxi     -6.078e-02  1.478e-02  -4.112 3.92e-05 ***\n",
       "El.Oro        1.281e-01  1.291e-02   9.925  < 2e-16 ***\n",
       "Esmeraldas    4.932e-02  1.899e-02   2.598  0.00939 ** \n",
       "Guayas       -8.762e-02  6.855e-03 -12.782  < 2e-16 ***\n",
       "Loja          7.788e-02  1.579e-02   4.932 8.14e-07 ***\n",
       "Los.Rios      8.953e-02  1.325e-02   6.758 1.41e-11 ***\n",
       "Manabi       -3.074e-02  1.437e-02  -2.139  0.03244 *  \n",
       "Santa.Elena  -2.181e-01  2.001e-02 -10.900  < 2e-16 ***\n",
       "---\n",
       "Signif. codes:  0 ‘***’ 0.001 ‘**’ 0.01 ‘*’ 0.05 ‘.’ 0.1 ‘ ’ 1\n",
       "\n",
       "Residual standard error: 1.369 on 351087 degrees of freedom\n",
       "  (2 observations deleted due to missingness)\n",
       "Multiple R-squared:  0.02368,\tAdjusted R-squared:  0.02359 \n",
       "F-statistic: 250.5 on 34 and 351087 DF,  p-value: < 2.2e-16\n"
      ]
     },
     "metadata": {},
     "output_type": "display_data"
    }
   ],
   "source": [
    "lm.fit2 = lm(unit_sales~onpromotion+transactions+dcoilwtico+day_0+day_1+day_2+day_3\n",
    "             +day_4+month_1++month_2+X1002+X1006+X1030+X1035+X1050+X1052+X1062\n",
    "             +X1064+X1068+X1075+X1079+X1082+X1087+Azuay+Bolivar+Chimborazo+Cotopaxi\n",
    "             +El.Oro+Esmeraldas+Guayas+Loja+Los.Rios+Manabi+Santa.Elena, \n",
    "             data=train)\n",
    "summary(lm.fit2)"
   ]
  },
  {
   "cell_type": "code",
   "execution_count": 7,
   "metadata": {},
   "outputs": [
    {
     "data": {
      "text/html": [
       "<table>\n",
       "<thead><tr><th></th><th scope=col>ME</th><th scope=col>RMSE</th><th scope=col>MAE</th><th scope=col>MPE</th><th scope=col>MAPE</th></tr></thead>\n",
       "<tbody>\n",
       "\t<tr><th scope=row>Test set</th><td>-0.002192471</td><td>1.367926    </td><td>1.09003     </td><td>-35.8593    </td><td>60.5476     </td></tr>\n",
       "</tbody>\n",
       "</table>\n"
      ],
      "text/latex": [
       "\\begin{tabular}{r|lllll}\n",
       "  & ME & RMSE & MAE & MPE & MAPE\\\\\n",
       "\\hline\n",
       "\tTest set & -0.002192471 & 1.367926     & 1.09003      & -35.8593     & 60.5476     \\\\\n",
       "\\end{tabular}\n"
      ],
      "text/markdown": [
       "\n",
       "| <!--/--> | ME | RMSE | MAE | MPE | MAPE | \n",
       "|---|\n",
       "| Test set | -0.002192471 | 1.367926     | 1.09003      | -35.8593     | 60.5476      | \n",
       "\n",
       "\n"
      ],
      "text/plain": [
       "         ME           RMSE     MAE     MPE      MAPE   \n",
       "Test set -0.002192471 1.367926 1.09003 -35.8593 60.5476"
      ]
     },
     "metadata": {},
     "output_type": "display_data"
    }
   ],
   "source": [
    "p2 =predict(lm.fit2, test)\n",
    "\n",
    "library(forecast)\n",
    "accuracy(p2, test$unit_sales)"
   ]
  },
  {
   "cell_type": "code",
   "execution_count": null,
   "metadata": {},
   "outputs": [],
   "source": []
  }
 ],
 "metadata": {
  "kernelspec": {
   "display_name": "R",
   "language": "R",
   "name": "ir"
  },
  "language_info": {
   "codemirror_mode": "r",
   "file_extension": ".r",
   "mimetype": "text/x-r-source",
   "name": "R",
   "pygments_lexer": "r",
   "version": "3.4.1"
  }
 },
 "nbformat": 4,
 "nbformat_minor": 2
}
