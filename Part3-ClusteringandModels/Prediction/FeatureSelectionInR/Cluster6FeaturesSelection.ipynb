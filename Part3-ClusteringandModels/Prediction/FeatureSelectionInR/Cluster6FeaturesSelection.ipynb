{
 "cells": [
  {
   "cell_type": "code",
   "execution_count": 8,
   "metadata": {},
   "outputs": [
    {
     "data": {
      "text/plain": [
       "\n",
       "Call:\n",
       "lm(formula = unit_sales ~ ., data = train)\n",
       "\n",
       "Residuals:\n",
       "   Min     1Q Median     3Q    Max \n",
       "-7.543 -2.538 -0.689  1.475 11.862 \n",
       "\n",
       "Coefficients: (4 not defined because of singularities)\n",
       "                                 Estimate Std. Error t value Pr(>|t|)    \n",
       "(Intercept)                     3.131e+00  4.955e-02  63.185  < 2e-16 ***\n",
       "onpromotion                     9.992e-01  2.624e-02  38.077  < 2e-16 ***\n",
       "transactions                    5.638e-04  7.344e-06  76.768  < 2e-16 ***\n",
       "dcoilwtico                      8.229e-03  2.437e-04  33.762  < 2e-16 ***\n",
       "day_0                          -2.358e-01  2.126e-02 -11.088  < 2e-16 ***\n",
       "day_1                          -3.142e-01  2.137e-02 -14.703  < 2e-16 ***\n",
       "day_2                          -3.583e-01  2.145e-02 -16.704  < 2e-16 ***\n",
       "day_3                          -4.482e-01  2.165e-02 -20.704  < 2e-16 ***\n",
       "day_4                          -3.663e-01  2.166e-02 -16.915  < 2e-16 ***\n",
       "day_5                          -4.533e-02  2.100e-02  -2.158 0.030892 *  \n",
       "day_6                                  NA         NA      NA       NA    \n",
       "month_1                         1.542e-01  2.980e-02   5.175 2.29e-07 ***\n",
       "month_2                         2.151e-01  3.034e-02   7.088 1.36e-12 ***\n",
       "month_3                         2.506e-01  2.961e-02   8.461  < 2e-16 ***\n",
       "month_4                         1.400e-01  3.039e-02   4.609 4.05e-06 ***\n",
       "month_5                         1.228e-01  2.889e-02   4.252 2.12e-05 ***\n",
       "month_6                         1.741e-01  2.968e-02   5.866 4.48e-09 ***\n",
       "month_7                         1.817e-01  2.920e-02   6.222 4.92e-10 ***\n",
       "month_8                         1.864e-01  2.985e-02   6.243 4.29e-10 ***\n",
       "month_9                         1.548e-01  3.150e-02   4.915 8.87e-07 ***\n",
       "month_10                        1.462e-01  3.095e-02   4.723 2.33e-06 ***\n",
       "month_11                        9.847e-02  3.148e-02   3.128 0.001761 ** \n",
       "month_12                               NA         NA      NA       NA    \n",
       "X1004                           1.049e-01  2.674e-02   3.923 8.76e-05 ***\n",
       "X1016                           3.009e-01  2.483e-02  12.117  < 2e-16 ***\n",
       "X1040                           2.483e-01  2.427e-02  10.231  < 2e-16 ***\n",
       "X1058                           1.545e-01  3.085e-02   5.007 5.54e-07 ***\n",
       "X1083                           1.209e+00  1.362e-01   8.878  < 2e-16 ***\n",
       "X1088                                  NA         NA      NA       NA    \n",
       "Azuay                           2.799e-01  3.738e-02   7.488 6.99e-14 ***\n",
       "Bolivar                         4.056e-01  5.194e-02   7.810 5.73e-15 ***\n",
       "Chimborazo                      2.488e-01  5.348e-02   4.651 3.30e-06 ***\n",
       "Cotopaxi                        2.310e-01  4.196e-02   5.505 3.70e-08 ***\n",
       "El.Oro                          3.463e-01  4.167e-02   8.311  < 2e-16 ***\n",
       "Esmeraldas                      2.949e-01  5.145e-02   5.732 9.96e-09 ***\n",
       "Guayas                          5.053e-03  3.096e-02   0.163 0.870374    \n",
       "Imbabura                        9.695e-02  5.164e-02   1.878 0.060449 .  \n",
       "Loja                            2.029e-01  4.835e-02   4.196 2.71e-05 ***\n",
       "Los.Rios                        2.334e-01  4.132e-02   5.650 1.61e-08 ***\n",
       "Manabi                         -7.629e-02  4.326e-02  -1.764 0.077799 .  \n",
       "Pastaza                        -5.207e-01  6.940e-02  -7.503 6.25e-14 ***\n",
       "Pichincha                       2.617e-01  2.935e-02   8.916  < 2e-16 ***\n",
       "Santa.Elena                    -6.678e-01  5.409e-02 -12.344  < 2e-16 ***\n",
       "Santo.Domingo.de.los.Tsachilas -3.363e-02  3.871e-02  -0.869 0.385052    \n",
       "Tungurahua                             NA         NA      NA       NA    \n",
       "localholiday                   -2.019e-02  1.058e-01  -0.191 0.848625    \n",
       "regionalholiday                 6.328e-01  3.296e-01   1.920 0.054849 .  \n",
       "nationalother                  -2.278e-01  3.792e-02  -6.008 1.88e-09 ***\n",
       "nholidayspike                   3.245e-01  6.522e-02   4.975 6.52e-07 ***\n",
       "goodfriday                     -1.884e-01  1.091e-01  -1.727 0.084209 .  \n",
       "blackfriday                    -1.235e-01  1.346e-01  -0.917 0.358991    \n",
       "worldcupspike                  -4.114e-02  8.807e-02  -0.467 0.640387    \n",
       "worldcupdrop                    1.614e-02  1.524e-01   0.106 0.915660    \n",
       "earthquakespike                 2.907e-01  7.998e-02   3.635 0.000278 ***\n",
       "earthquakedrop                 -1.830e-01  1.009e-01  -1.814 0.069611 .  \n",
       "---\n",
       "Signif. codes:  0 ‘***’ 0.001 ‘**’ 0.01 ‘*’ 0.05 ‘.’ 0.1 ‘ ’ 1\n",
       "\n",
       "Residual standard error: 3.386 on 350983 degrees of freedom\n",
       "  (2 observations deleted due to missingness)\n",
       "Multiple R-squared:  0.04598,\tAdjusted R-squared:  0.04584 \n",
       "F-statistic: 338.3 on 50 and 350983 DF,  p-value: < 2.2e-16\n"
      ]
     },
     "metadata": {},
     "output_type": "display_data"
    }
   ],
   "source": [
    "data <- read.csv(\"~/Desktop/code/FavoritaGrocery/Part3-ClusteringandModels/Prediction/train_cluster6.csv\")\n",
    "\n",
    "set.seed(101)\n",
    "indexes = sample(1:nrow(data), size=0.7*nrow(data))\n",
    "train <- data[indexes, ]\n",
    "test  <- data[-indexes, ]\n",
    "\n",
    "\n",
    "\n",
    "lm.fit = lm(unit_sales~., data=train)\n",
    "summary(lm.fit)"
   ]
  },
  {
   "cell_type": "code",
   "execution_count": 9,
   "metadata": {},
   "outputs": [
    {
     "name": "stderr",
     "output_type": "stream",
     "text": [
      "Warning message in predict.lm(lm.fit, test):\n",
      "“prediction from a rank-deficient fit may be misleading”"
     ]
    },
    {
     "data": {
      "text/html": [
       "<table>\n",
       "<thead><tr><th></th><th scope=col>ME</th><th scope=col>RMSE</th><th scope=col>MAE</th><th scope=col>MPE</th><th scope=col>MAPE</th></tr></thead>\n",
       "<tbody>\n",
       "\t<tr><th scope=row>Test set</th><td>-0.01171237</td><td>3.383165   </td><td>2.618811   </td><td>-73.16519  </td><td>99.32003   </td></tr>\n",
       "</tbody>\n",
       "</table>\n"
      ],
      "text/latex": [
       "\\begin{tabular}{r|lllll}\n",
       "  & ME & RMSE & MAE & MPE & MAPE\\\\\n",
       "\\hline\n",
       "\tTest set & -0.01171237 & 3.383165    & 2.618811    & -73.16519   & 99.32003   \\\\\n",
       "\\end{tabular}\n"
      ],
      "text/markdown": [
       "\n",
       "| <!--/--> | ME | RMSE | MAE | MPE | MAPE | \n",
       "|---|\n",
       "| Test set | -0.01171237 | 3.383165    | 2.618811    | -73.16519   | 99.32003    | \n",
       "\n",
       "\n"
      ],
      "text/plain": [
       "         ME          RMSE     MAE      MPE       MAPE    \n",
       "Test set -0.01171237 3.383165 2.618811 -73.16519 99.32003"
      ]
     },
     "metadata": {},
     "output_type": "display_data"
    }
   ],
   "source": [
    "p =predict(lm.fit, test)\n",
    "\n",
    "accuracy(p, test$unit_sales)"
   ]
  },
  {
   "cell_type": "code",
   "execution_count": 10,
   "metadata": {},
   "outputs": [
    {
     "data": {
      "text/plain": [
       "\n",
       "Call:\n",
       "lm(formula = unit_sales ~ . - day_6 - month_12 - X1088 - Guayas - \n",
       "    Santo.Domingo.de.los.Tsachilas - Tungurahua - localholiday - \n",
       "    blackfriday - worldcupspike - worldcupdrop, data = train)\n",
       "\n",
       "Residuals:\n",
       "    Min      1Q  Median      3Q     Max \n",
       "-7.5443 -2.5383 -0.6883  1.4748 11.8625 \n",
       "\n",
       "Coefficients:\n",
       "                  Estimate Std. Error t value Pr(>|t|)    \n",
       "(Intercept)      3.127e+00  4.075e-02  76.744  < 2e-16 ***\n",
       "onpromotion      9.993e-01  2.624e-02  38.080  < 2e-16 ***\n",
       "transactions     5.643e-04  7.244e-06  77.893  < 2e-16 ***\n",
       "dcoilwtico       8.229e-03  2.416e-04  34.064  < 2e-16 ***\n",
       "day_0           -2.354e-01  2.125e-02 -11.077  < 2e-16 ***\n",
       "day_1           -3.138e-01  2.136e-02 -14.691  < 2e-16 ***\n",
       "day_2           -3.578e-01  2.142e-02 -16.699  < 2e-16 ***\n",
       "day_3           -4.476e-01  2.162e-02 -20.704  < 2e-16 ***\n",
       "day_4           -3.676e-01  2.156e-02 -17.053  < 2e-16 ***\n",
       "day_5           -4.539e-02  2.100e-02  -2.161 0.030683 *  \n",
       "month_1          1.549e-01  2.975e-02   5.207 1.92e-07 ***\n",
       "month_2          2.157e-01  3.029e-02   7.120 1.08e-12 ***\n",
       "month_3          2.513e-01  2.957e-02   8.498  < 2e-16 ***\n",
       "month_4          1.407e-01  3.035e-02   4.635 3.57e-06 ***\n",
       "month_5          1.235e-01  2.885e-02   4.282 1.85e-05 ***\n",
       "month_6          1.741e-01  2.951e-02   5.900 3.63e-09 ***\n",
       "month_7          1.811e-01  2.911e-02   6.221 4.93e-10 ***\n",
       "month_8          1.869e-01  2.982e-02   6.269 3.64e-10 ***\n",
       "month_9          1.554e-01  3.145e-02   4.941 7.77e-07 ***\n",
       "month_10         1.468e-01  3.090e-02   4.750 2.04e-06 ***\n",
       "month_11         9.565e-02  3.125e-02   3.061 0.002203 ** \n",
       "X1004            1.049e-01  2.674e-02   3.923 8.73e-05 ***\n",
       "X1016            3.011e-01  2.483e-02  12.125  < 2e-16 ***\n",
       "X1040            2.483e-01  2.427e-02  10.234  < 2e-16 ***\n",
       "X1058            1.545e-01  3.085e-02   5.008 5.49e-07 ***\n",
       "X1083            1.209e+00  1.362e-01   8.881  < 2e-16 ***\n",
       "Azuay            2.822e-01  2.701e-02  10.447  < 2e-16 ***\n",
       "Bolivar          4.077e-01  4.498e-02   9.066  < 2e-16 ***\n",
       "Chimborazo       2.509e-01  4.683e-02   5.357 8.48e-08 ***\n",
       "Cotopaxi         2.332e-01  3.278e-02   7.116 1.12e-12 ***\n",
       "El.Oro           3.487e-01  3.253e-02  10.721  < 2e-16 ***\n",
       "Esmeraldas       2.969e-01  4.445e-02   6.680 2.39e-11 ***\n",
       "Imbabura         9.927e-02  4.467e-02   2.222 0.026270 *  \n",
       "Loja             2.049e-01  4.110e-02   4.985 6.21e-07 ***\n",
       "Los.Rios         2.357e-01  3.209e-02   7.344 2.08e-13 ***\n",
       "Manabi          -7.407e-02  3.440e-02  -2.153 0.031303 *  \n",
       "Pastaza         -5.182e-01  6.409e-02  -8.085 6.22e-16 ***\n",
       "Pichincha        2.634e-01  1.614e-02  16.318  < 2e-16 ***\n",
       "Santa.Elena     -6.653e-01  4.727e-02 -14.075  < 2e-16 ***\n",
       "regionalholiday  6.228e-01  3.294e-01   1.890 0.058694 .  \n",
       "nationalother   -2.275e-01  3.790e-02  -6.002 1.95e-09 ***\n",
       "nholidayspike    3.264e-01  6.518e-02   5.007 5.53e-07 ***\n",
       "goodfriday      -1.874e-01  1.091e-01  -1.718 0.085840 .  \n",
       "earthquakespike  2.901e-01  7.997e-02   3.627 0.000286 ***\n",
       "earthquakedrop  -1.833e-01  1.009e-01  -1.818 0.069121 .  \n",
       "---\n",
       "Signif. codes:  0 ‘***’ 0.001 ‘**’ 0.01 ‘*’ 0.05 ‘.’ 0.1 ‘ ’ 1\n",
       "\n",
       "Residual standard error: 3.386 on 350989 degrees of freedom\n",
       "  (2 observations deleted due to missingness)\n",
       "Multiple R-squared:  0.04597,\tAdjusted R-squared:  0.04585 \n",
       "F-statistic: 384.4 on 44 and 350989 DF,  p-value: < 2.2e-16\n"
      ]
     },
     "metadata": {},
     "output_type": "display_data"
    }
   ],
   "source": [
    "lm.fit2 = lm(unit_sales~.-day_6-month_12-X1088-Guayas-Santo.Domingo.de.los.Tsachilas\n",
    "             -Tungurahua-localholiday-blackfriday-worldcupspike-worldcupdrop, \n",
    "             data=train)\n",
    "summary(lm.fit2)"
   ]
  },
  {
   "cell_type": "code",
   "execution_count": 11,
   "metadata": {},
   "outputs": [
    {
     "data": {
      "text/html": [
       "<table>\n",
       "<thead><tr><th></th><th scope=col>ME</th><th scope=col>RMSE</th><th scope=col>MAE</th><th scope=col>MPE</th><th scope=col>MAPE</th></tr></thead>\n",
       "<tbody>\n",
       "\t<tr><th scope=row>Test set</th><td>-0.01172519</td><td>3.38319    </td><td>2.61884    </td><td>-73.16588  </td><td>99.32061   </td></tr>\n",
       "</tbody>\n",
       "</table>\n"
      ],
      "text/latex": [
       "\\begin{tabular}{r|lllll}\n",
       "  & ME & RMSE & MAE & MPE & MAPE\\\\\n",
       "\\hline\n",
       "\tTest set & -0.01172519 & 3.38319     & 2.61884     & -73.16588   & 99.32061   \\\\\n",
       "\\end{tabular}\n"
      ],
      "text/markdown": [
       "\n",
       "| <!--/--> | ME | RMSE | MAE | MPE | MAPE | \n",
       "|---|\n",
       "| Test set | -0.01172519 | 3.38319     | 2.61884     | -73.16588   | 99.32061    | \n",
       "\n",
       "\n"
      ],
      "text/plain": [
       "         ME          RMSE    MAE     MPE       MAPE    \n",
       "Test set -0.01172519 3.38319 2.61884 -73.16588 99.32061"
      ]
     },
     "metadata": {},
     "output_type": "display_data"
    }
   ],
   "source": [
    "p2 =predict(lm.fit2, test)\n",
    "\n",
    "library(forecast)\n",
    "accuracy(p2, test$unit_sales)"
   ]
  },
  {
   "cell_type": "code",
   "execution_count": null,
   "metadata": {},
   "outputs": [],
   "source": []
  }
 ],
 "metadata": {
  "kernelspec": {
   "display_name": "R",
   "language": "R",
   "name": "ir"
  },
  "language_info": {
   "codemirror_mode": "r",
   "file_extension": ".r",
   "mimetype": "text/x-r-source",
   "name": "R",
   "pygments_lexer": "r",
   "version": "3.4.1"
  }
 },
 "nbformat": 4,
 "nbformat_minor": 2
}
