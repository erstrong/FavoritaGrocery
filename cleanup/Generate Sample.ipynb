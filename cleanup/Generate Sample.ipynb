{
 "cells": [
  {
   "cell_type": "code",
   "execution_count": 1,
   "metadata": {},
   "outputs": [],
   "source": [
    "import pandas as pd"
   ]
  },
  {
   "cell_type": "code",
   "execution_count": 2,
   "metadata": {},
   "outputs": [],
   "source": [
    "train = pd.read_csv('train.csv', header=0, low_memory=False)"
   ]
  },
  {
   "cell_type": "code",
   "execution_count": 3,
   "metadata": {},
   "outputs": [],
   "source": [
    "train = train.sample(n=1000000)"
   ]
  },
  {
   "cell_type": "code",
   "execution_count": 4,
   "metadata": {},
   "outputs": [],
   "source": [
    "transactions = pd.read_csv('transactions_clean.csv')\n",
    "stores = pd.read_csv('stores.csv', header=0)\n",
    "transactions = pd.read_csv('transactions_clean.csv', header=0)\n",
    "items = pd.read_csv('items.csv', header=0)\n",
    "holidays = pd.read_csv('holidays_events.csv', header=0)\n",
    "oil = pd.read_csv('oils_clean.csv', header=0)"
   ]
  },
  {
   "cell_type": "code",
   "execution_count": 5,
   "metadata": {},
   "outputs": [],
   "source": [
    "holidays = holidays.rename(columns={'date':'date','type':'holidaytype','locale':'locale','locale_name':'locale_name',\n",
    "                           'description':'description','transferred':'transferred'})\n",
    "nationalholidays = holidays[holidays['locale']=='National']\n",
    "regionalholidays = holidays[holidays['locale']=='Regional']\n",
    "localholidays = holidays[holidays['locale']=='Local']\n",
    "\n",
    "localholidays = localholidays.rename(columns={'date':'date','holidaytype':'holidaytype','locale':'locale','locale_name':'city','description':'description','transferred':'transferred'})\n",
    "regionalholidays = regionalholidays.rename(columns={'date':'date','holidaytype':'holidaytype','locale':'locale','locale_name':'state','description':'description','transferred':'transferred'})\n",
    "\n",
    "\n",
    "transactions = transactions.melt(id_vars=['date'])\n",
    "transactions = transactions.rename(columns={'date':'date','variable':'store_nbr','value':'transactions'})\n",
    "transactions['store_nbr'] = transactions['store_nbr'].map(lambda x: int(x))\n"
   ]
  },
  {
   "cell_type": "code",
   "execution_count": 6,
   "metadata": {},
   "outputs": [],
   "source": [
    "train['onpromotion'].fillna(False, inplace=True)"
   ]
  },
  {
   "cell_type": "code",
   "execution_count": 7,
   "metadata": {},
   "outputs": [],
   "source": [
    "# Combine with other files\n",
    "train = train.merge(items, on='item_nbr', how='left')\n",
    "train = train.merge(stores, on='store_nbr', how='left')\n",
    "train = train['store_nbr'].map(lambda a: int(a))\n",
    "train = train.merge(transactions, how='left', on=['date','store_nbr'])\n",
    "train = train.merge(oil, how='left', on='date')\n",
    "train = train.merge(nationalholidays, on='date', how='left')\n",
    "train = train.merge(regionalholidays, on=['date','state'], how='left', suffixes=('_n','_r'))\n",
    "train = train.merge(localholidays, on=['date','city'], how='left')"
   ]
  },
  {
   "cell_type": "code",
   "execution_count": 9,
   "metadata": {},
   "outputs": [],
   "source": [
    "# Convert date to datetime\n",
    "import datetime\n",
    "format = '%Y-%m-%d'\n",
    "train['date'] = train['date'].map(lambda a: datetime.datetime.strptime(a, format))\n",
    "train['day'] = train['date'].map(lambda x: x.weekday())\n",
    "train['month'] = train['date'].map(lambda x: x.month)\n",
    "train['year'] = train['date'].map(lambda x: x.year)"
   ]
  },
  {
   "cell_type": "code",
   "execution_count": 17,
   "metadata": {},
   "outputs": [
    {
     "ename": "AttributeError",
     "evalue": "'Series' object has no attribute 'merge'",
     "output_type": "error",
     "traceback": [
      "\u001b[0;31m---------------------------------------------------------------------------\u001b[0m",
      "\u001b[0;31mAttributeError\u001b[0m                            Traceback (most recent call last)",
      "\u001b[0;32m<ipython-input-17-2681f3a77148>\u001b[0m in \u001b[0;36m<module>\u001b[0;34m()\u001b[0m\n\u001b[1;32m      2\u001b[0m \u001b[0;31m#train = train['store_nbr'].map(lambda a: int(a))\u001b[0m\u001b[0;34m\u001b[0m\u001b[0;34m\u001b[0m\u001b[0m\n\u001b[1;32m      3\u001b[0m \u001b[0;31m#train.drop('transactions', inplace=True)\u001b[0m\u001b[0;34m\u001b[0m\u001b[0;34m\u001b[0m\u001b[0m\n\u001b[0;32m----> 4\u001b[0;31m \u001b[0mtrain\u001b[0m \u001b[0;34m=\u001b[0m \u001b[0mtrain\u001b[0m\u001b[0;34m.\u001b[0m\u001b[0mmerge\u001b[0m\u001b[0;34m(\u001b[0m\u001b[0mtransactions\u001b[0m\u001b[0;34m,\u001b[0m \u001b[0mhow\u001b[0m\u001b[0;34m=\u001b[0m\u001b[0;34m'left'\u001b[0m\u001b[0;34m,\u001b[0m \u001b[0mon\u001b[0m\u001b[0;34m=\u001b[0m\u001b[0;34m[\u001b[0m\u001b[0;34m'date'\u001b[0m\u001b[0;34m,\u001b[0m\u001b[0;34m'store_nbr'\u001b[0m\u001b[0;34m]\u001b[0m\u001b[0;34m)\u001b[0m\u001b[0;34m\u001b[0m\u001b[0m\n\u001b[0m",
      "\u001b[0;32m~/anaconda3/lib/python3.6/site-packages/pandas/core/generic.py\u001b[0m in \u001b[0;36m__getattr__\u001b[0;34m(self, name)\u001b[0m\n\u001b[1;32m   3612\u001b[0m             \u001b[0;32mif\u001b[0m \u001b[0mname\u001b[0m \u001b[0;32min\u001b[0m \u001b[0mself\u001b[0m\u001b[0;34m.\u001b[0m\u001b[0m_info_axis\u001b[0m\u001b[0;34m:\u001b[0m\u001b[0;34m\u001b[0m\u001b[0m\n\u001b[1;32m   3613\u001b[0m                 \u001b[0;32mreturn\u001b[0m \u001b[0mself\u001b[0m\u001b[0;34m[\u001b[0m\u001b[0mname\u001b[0m\u001b[0;34m]\u001b[0m\u001b[0;34m\u001b[0m\u001b[0m\n\u001b[0;32m-> 3614\u001b[0;31m             \u001b[0;32mreturn\u001b[0m \u001b[0mobject\u001b[0m\u001b[0;34m.\u001b[0m\u001b[0m__getattribute__\u001b[0m\u001b[0;34m(\u001b[0m\u001b[0mself\u001b[0m\u001b[0;34m,\u001b[0m \u001b[0mname\u001b[0m\u001b[0;34m)\u001b[0m\u001b[0;34m\u001b[0m\u001b[0m\n\u001b[0m\u001b[1;32m   3615\u001b[0m \u001b[0;34m\u001b[0m\u001b[0m\n\u001b[1;32m   3616\u001b[0m     \u001b[0;32mdef\u001b[0m \u001b[0m__setattr__\u001b[0m\u001b[0;34m(\u001b[0m\u001b[0mself\u001b[0m\u001b[0;34m,\u001b[0m \u001b[0mname\u001b[0m\u001b[0;34m,\u001b[0m \u001b[0mvalue\u001b[0m\u001b[0;34m)\u001b[0m\u001b[0;34m:\u001b[0m\u001b[0;34m\u001b[0m\u001b[0m\n",
      "\u001b[0;31mAttributeError\u001b[0m: 'Series' object has no attribute 'merge'"
     ]
    }
   ],
   "source": [
    "transactions['store_nbr'] = transactions['store_nbr'].map(lambda x: int(x))\n",
    "#train = train['store_nbr'].map(lambda a: int(a))\n",
    "#train.drop('transactions', inplace=True)\n",
    "train = train.merge(transactions, how='left', on=['date','store_nbr'])\n",
    "\n"
   ]
  },
  {
   "cell_type": "code",
   "execution_count": 18,
   "metadata": {},
   "outputs": [
    {
     "data": {
      "text/plain": [
       "0    34\n",
       "1     1\n",
       "2    33\n",
       "3    43\n",
       "4    25\n",
       "Name: store_nbr, dtype: int64"
      ]
     },
     "execution_count": 18,
     "metadata": {},
     "output_type": "execute_result"
    }
   ],
   "source": [
    "train.head()"
   ]
  },
  {
   "cell_type": "code",
   "execution_count": 11,
   "metadata": {},
   "outputs": [],
   "source": [
    "train.to_csv('train_SampleForEDA.csv', index=False)"
   ]
  },
  {
   "cell_type": "code",
   "execution_count": 12,
   "metadata": {},
   "outputs": [
    {
     "data": {
      "text/plain": [
       "id               1003225\n",
       "date             1003225\n",
       "store_nbr        1003225\n",
       "item_nbr         1003225\n",
       "unit_sales       1003225\n",
       "onpromotion      1003225\n",
       "family           1003225\n",
       "class            1003225\n",
       "perishable       1003225\n",
       "city             1003225\n",
       "state            1003225\n",
       "type             1003225\n",
       "cluster          1003225\n",
       "transactions           0\n",
       "dcoilwtico       1003225\n",
       "holidaytype_n      91328\n",
       "locale_n           91328\n",
       "locale_name        91328\n",
       "description_n      91328\n",
       "transferred_n      91328\n",
       "holidaytype_r        261\n",
       "locale_r             261\n",
       "description_r        261\n",
       "transferred_r        261\n",
       "holidaytype         4442\n",
       "locale              4442\n",
       "description         4442\n",
       "transferred         4442\n",
       "day              1003225\n",
       "month            1003225\n",
       "year             1003225\n",
       "dtype: int64"
      ]
     },
     "execution_count": 12,
     "metadata": {},
     "output_type": "execute_result"
    }
   ],
   "source": [
    "train.count()"
   ]
  },
  {
   "cell_type": "code",
   "execution_count": 29,
   "metadata": {},
   "outputs": [],
   "source": [
    "train2 = pd.read_csv('train_SampleForEDA.csv', header=0, low_memory=False)"
   ]
  },
  {
   "cell_type": "code",
   "execution_count": 30,
   "metadata": {},
   "outputs": [],
   "source": [
    "train2.drop('transactions', axis=1, inplace=True)\n",
    "train2 = train2.merge(transactions, how='left', on=['date','store_nbr'])"
   ]
  },
  {
   "cell_type": "code",
   "execution_count": 31,
   "metadata": {},
   "outputs": [
    {
     "data": {
      "text/plain": [
       "['id',\n",
       " 'date',\n",
       " 'store_nbr',\n",
       " 'item_nbr',\n",
       " 'unit_sales',\n",
       " 'onpromotion',\n",
       " 'family',\n",
       " 'class',\n",
       " 'perishable',\n",
       " 'city',\n",
       " 'state',\n",
       " 'type',\n",
       " 'cluster',\n",
       " 'dcoilwtico',\n",
       " 'holidaytype_n',\n",
       " 'locale_n',\n",
       " 'locale_name',\n",
       " 'description_n',\n",
       " 'transferred_n',\n",
       " 'holidaytype_r',\n",
       " 'locale_r',\n",
       " 'description_r',\n",
       " 'transferred_r',\n",
       " 'holidaytype',\n",
       " 'locale',\n",
       " 'description',\n",
       " 'transferred',\n",
       " 'day',\n",
       " 'month',\n",
       " 'year',\n",
       " 'transactions']"
      ]
     },
     "execution_count": 31,
     "metadata": {},
     "output_type": "execute_result"
    }
   ],
   "source": [
    "list(train2)"
   ]
  },
  {
   "cell_type": "code",
   "execution_count": 32,
   "metadata": {},
   "outputs": [
    {
     "data": {
      "text/html": [
       "<div>\n",
       "<style scoped>\n",
       "    .dataframe tbody tr th:only-of-type {\n",
       "        vertical-align: middle;\n",
       "    }\n",
       "\n",
       "    .dataframe tbody tr th {\n",
       "        vertical-align: top;\n",
       "    }\n",
       "\n",
       "    .dataframe thead th {\n",
       "        text-align: right;\n",
       "    }\n",
       "</style>\n",
       "<table border=\"1\" class=\"dataframe\">\n",
       "  <thead>\n",
       "    <tr style=\"text-align: right;\">\n",
       "      <th></th>\n",
       "      <th>id</th>\n",
       "      <th>date</th>\n",
       "      <th>store_nbr</th>\n",
       "      <th>item_nbr</th>\n",
       "      <th>unit_sales</th>\n",
       "      <th>onpromotion</th>\n",
       "      <th>family</th>\n",
       "      <th>class</th>\n",
       "      <th>perishable</th>\n",
       "      <th>city</th>\n",
       "      <th>...</th>\n",
       "      <th>description_r</th>\n",
       "      <th>transferred_r</th>\n",
       "      <th>holidaytype</th>\n",
       "      <th>locale</th>\n",
       "      <th>description</th>\n",
       "      <th>transferred</th>\n",
       "      <th>day</th>\n",
       "      <th>month</th>\n",
       "      <th>year</th>\n",
       "      <th>transactions</th>\n",
       "    </tr>\n",
       "  </thead>\n",
       "  <tbody>\n",
       "    <tr>\n",
       "      <th>0</th>\n",
       "      <td>26680820</td>\n",
       "      <td>2014-07-07</td>\n",
       "      <td>34</td>\n",
       "      <td>1239812</td>\n",
       "      <td>4.0</td>\n",
       "      <td>False</td>\n",
       "      <td>DAIRY</td>\n",
       "      <td>2170</td>\n",
       "      <td>1</td>\n",
       "      <td>Guayaquil</td>\n",
       "      <td>...</td>\n",
       "      <td>NaN</td>\n",
       "      <td>NaN</td>\n",
       "      <td>NaN</td>\n",
       "      <td>NaN</td>\n",
       "      <td>NaN</td>\n",
       "      <td>NaN</td>\n",
       "      <td>0</td>\n",
       "      <td>7</td>\n",
       "      <td>2014</td>\n",
       "      <td>2509.0</td>\n",
       "    </tr>\n",
       "    <tr>\n",
       "      <th>1</th>\n",
       "      <td>67038680</td>\n",
       "      <td>2016-01-08</td>\n",
       "      <td>1</td>\n",
       "      <td>2007133</td>\n",
       "      <td>3.0</td>\n",
       "      <td>False</td>\n",
       "      <td>DAIRY</td>\n",
       "      <td>2172</td>\n",
       "      <td>1</td>\n",
       "      <td>Quito</td>\n",
       "      <td>...</td>\n",
       "      <td>NaN</td>\n",
       "      <td>NaN</td>\n",
       "      <td>NaN</td>\n",
       "      <td>NaN</td>\n",
       "      <td>NaN</td>\n",
       "      <td>NaN</td>\n",
       "      <td>4</td>\n",
       "      <td>1</td>\n",
       "      <td>2016</td>\n",
       "      <td>1823.0</td>\n",
       "    </tr>\n",
       "    <tr>\n",
       "      <th>2</th>\n",
       "      <td>55703443</td>\n",
       "      <td>2015-09-04</td>\n",
       "      <td>33</td>\n",
       "      <td>1047696</td>\n",
       "      <td>3.0</td>\n",
       "      <td>False</td>\n",
       "      <td>BEVERAGES</td>\n",
       "      <td>1122</td>\n",
       "      <td>0</td>\n",
       "      <td>Quevedo</td>\n",
       "      <td>...</td>\n",
       "      <td>NaN</td>\n",
       "      <td>NaN</td>\n",
       "      <td>NaN</td>\n",
       "      <td>NaN</td>\n",
       "      <td>NaN</td>\n",
       "      <td>NaN</td>\n",
       "      <td>4</td>\n",
       "      <td>9</td>\n",
       "      <td>2015</td>\n",
       "      <td>901.0</td>\n",
       "    </tr>\n",
       "    <tr>\n",
       "      <th>3</th>\n",
       "      <td>55192368</td>\n",
       "      <td>2015-08-29</td>\n",
       "      <td>43</td>\n",
       "      <td>1351305</td>\n",
       "      <td>1.0</td>\n",
       "      <td>False</td>\n",
       "      <td>GROCERY I</td>\n",
       "      <td>1042</td>\n",
       "      <td>0</td>\n",
       "      <td>Esmeraldas</td>\n",
       "      <td>...</td>\n",
       "      <td>NaN</td>\n",
       "      <td>NaN</td>\n",
       "      <td>NaN</td>\n",
       "      <td>NaN</td>\n",
       "      <td>NaN</td>\n",
       "      <td>NaN</td>\n",
       "      <td>5</td>\n",
       "      <td>8</td>\n",
       "      <td>2015</td>\n",
       "      <td>1461.0</td>\n",
       "    </tr>\n",
       "    <tr>\n",
       "      <th>4</th>\n",
       "      <td>98161249</td>\n",
       "      <td>2016-11-27</td>\n",
       "      <td>25</td>\n",
       "      <td>830625</td>\n",
       "      <td>3.0</td>\n",
       "      <td>False</td>\n",
       "      <td>CLEANING</td>\n",
       "      <td>3032</td>\n",
       "      <td>0</td>\n",
       "      <td>Salinas</td>\n",
       "      <td>...</td>\n",
       "      <td>NaN</td>\n",
       "      <td>NaN</td>\n",
       "      <td>NaN</td>\n",
       "      <td>NaN</td>\n",
       "      <td>NaN</td>\n",
       "      <td>NaN</td>\n",
       "      <td>6</td>\n",
       "      <td>11</td>\n",
       "      <td>2016</td>\n",
       "      <td>736.0</td>\n",
       "    </tr>\n",
       "  </tbody>\n",
       "</table>\n",
       "<p>5 rows × 31 columns</p>\n",
       "</div>"
      ],
      "text/plain": [
       "         id        date  store_nbr  item_nbr  unit_sales  onpromotion  \\\n",
       "0  26680820  2014-07-07         34   1239812         4.0        False   \n",
       "1  67038680  2016-01-08          1   2007133         3.0        False   \n",
       "2  55703443  2015-09-04         33   1047696         3.0        False   \n",
       "3  55192368  2015-08-29         43   1351305         1.0        False   \n",
       "4  98161249  2016-11-27         25    830625         3.0        False   \n",
       "\n",
       "      family  class  perishable        city     ...      description_r  \\\n",
       "0      DAIRY   2170           1   Guayaquil     ...                NaN   \n",
       "1      DAIRY   2172           1       Quito     ...                NaN   \n",
       "2  BEVERAGES   1122           0     Quevedo     ...                NaN   \n",
       "3  GROCERY I   1042           0  Esmeraldas     ...                NaN   \n",
       "4   CLEANING   3032           0     Salinas     ...                NaN   \n",
       "\n",
       "  transferred_r  holidaytype  locale description transferred day month  year  \\\n",
       "0           NaN          NaN     NaN         NaN         NaN   0     7  2014   \n",
       "1           NaN          NaN     NaN         NaN         NaN   4     1  2016   \n",
       "2           NaN          NaN     NaN         NaN         NaN   4     9  2015   \n",
       "3           NaN          NaN     NaN         NaN         NaN   5     8  2015   \n",
       "4           NaN          NaN     NaN         NaN         NaN   6    11  2016   \n",
       "\n",
       "  transactions  \n",
       "0       2509.0  \n",
       "1       1823.0  \n",
       "2        901.0  \n",
       "3       1461.0  \n",
       "4        736.0  \n",
       "\n",
       "[5 rows x 31 columns]"
      ]
     },
     "execution_count": 32,
     "metadata": {},
     "output_type": "execute_result"
    }
   ],
   "source": [
    "train2.head()"
   ]
  },
  {
   "cell_type": "code",
   "execution_count": 33,
   "metadata": {},
   "outputs": [],
   "source": [
    "train2.to_csv('train_SampleForEDA.csv', index=False)"
   ]
  },
  {
   "cell_type": "code",
   "execution_count": 34,
   "metadata": {},
   "outputs": [
    {
     "data": {
      "text/plain": [
       "id               1003225\n",
       "date             1003225\n",
       "store_nbr        1003225\n",
       "item_nbr         1003225\n",
       "unit_sales       1003225\n",
       "onpromotion      1003225\n",
       "family           1003225\n",
       "class            1003225\n",
       "perishable       1003225\n",
       "city             1003225\n",
       "state            1003225\n",
       "type             1003225\n",
       "cluster          1003225\n",
       "dcoilwtico       1003225\n",
       "holidaytype_n      91328\n",
       "locale_n           91328\n",
       "locale_name        91328\n",
       "description_n      91328\n",
       "transferred_n      91328\n",
       "holidaytype_r        261\n",
       "locale_r             261\n",
       "description_r        261\n",
       "transferred_r        261\n",
       "holidaytype         4442\n",
       "locale              4442\n",
       "description         4442\n",
       "transferred         4442\n",
       "day              1003225\n",
       "month            1003225\n",
       "year             1003225\n",
       "transactions     1003223\n",
       "dtype: int64"
      ]
     },
     "execution_count": 34,
     "metadata": {},
     "output_type": "execute_result"
    }
   ],
   "source": [
    "train2.count()"
   ]
  },
  {
   "cell_type": "code",
   "execution_count": null,
   "metadata": {},
   "outputs": [],
   "source": [
    "train_full = pd.read_csv('train_finalclean.csv', header=0, low_memory=False)"
   ]
  }
 ],
 "metadata": {
  "kernelspec": {
   "display_name": "Python 3",
   "language": "python",
   "name": "python3"
  },
  "language_info": {
   "codemirror_mode": {
    "name": "ipython",
    "version": 3
   },
   "file_extension": ".py",
   "mimetype": "text/x-python",
   "name": "python",
   "nbconvert_exporter": "python",
   "pygments_lexer": "ipython3",
   "version": "3.6.3"
  }
 },
 "nbformat": 4,
 "nbformat_minor": 2
}
